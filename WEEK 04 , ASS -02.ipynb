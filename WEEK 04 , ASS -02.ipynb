{
 "cells": [
  {
   "cell_type": "markdown",
   "metadata": {},
   "source": [
    "OPPS ASSIGNMENT NO-01 (WEEK-04)"
   ]
  },
  {
   "cell_type": "markdown",
   "metadata": {},
   "source": [
    "Q1. Explain Class and Object with respect to Object-Oriented Programming. Give a suitable example."
   ]
  },
  {
   "cell_type": "markdown",
   "metadata": {},
   "source": [
    "In Object-Oriented Programming (OOP), **class** and **object** are fundamental concepts. Let me break them down:\n",
    "\n",
    "### 1. **Class**:\n",
    "A **class** is a blueprint or template for creating objects. It defines a structure that consists of attributes (data) and methods (functions) that describe the behavior of the objects. In simple terms, it's like a plan or prototype.\n",
    "\n",
    "### 2. **Object**:\n",
    "An **object** is an instance of a class. When a class is defined, no memory is allocated until objects are created. Objects have both state (attributes) and behavior (methods). Each object can have different attribute values but will follow the structure defined by the class.\n",
    "\n",
    " "
   ]
  },
  {
   "cell_type": "code",
   "execution_count": 1,
   "metadata": {},
   "outputs": [
    {
     "name": "stdout",
     "output_type": "stream",
     "text": [
      "Brand: Toyota, Model: Corolla, Color: Red\n",
      "Brand: Honda, Model: Civic, Color: Blue\n"
     ]
    }
   ],
   "source": [
    "class Car:\n",
    "    # Constructor to initialize object\n",
    "    def __init__(self, brand, model, color):\n",
    "        self.brand = brand  # attribute\n",
    "        self.model = model  # attribute\n",
    "        self.color = color  # attribute\n",
    "    \n",
    "    # Method to display car details\n",
    "    def car_details(self):\n",
    "        print(f\"Brand: {self.brand}, Model: {self.model}, Color: {self.color}\")\n",
    "\n",
    "# Creating objects of the Car class\n",
    "car1 = Car(\"Toyota\", \"Corolla\", \"Red\")\n",
    "car2 = Car(\"Honda\", \"Civic\", \"Blue\")\n",
    "\n",
    "# Accessing object methods\n",
    "car1.car_details()  # Output: Brand: Toyota, Model: Corolla, Color: Red\n",
    "car2.car_details()  # Output: Brand: Honda, Model: Civic, Color: Blue\n"
   ]
  },
  {
   "cell_type": "markdown",
   "metadata": {},
   "source": [
    "Explanation:\n",
    "               Class Car: It defines the attributes brand, model, and color, and the method car_details() to display these attributes.\n",
    "                                        Object car1 and car2: These are instances of the class Car, with different values for brand, model, and color."
   ]
  },
  {
   "cell_type": "markdown",
   "metadata": {},
   "source": [
    "Q2. Name the four pillars of OOPs."
   ]
  },
  {
   "cell_type": "markdown",
   "metadata": {},
   "source": [
    "The four pillars of Object-Oriented Programming (OOP) are:\n",
    "\n",
    "1. **Encapsulation**:\n",
    "   - Encapsulation is the concept of bundling the data (attributes) and methods (functions) that operate on the data into a single unit or class. It restricts direct access to some of an object's components, which is a means of preventing accidental or unauthorized modification of data.\n",
    "   - Example: In a class, data members can be made private, and access to them can be provided through public getter and setter methods.\n",
    "\n",
    "2. **Abstraction**:\n",
    "   - Abstraction is the process of hiding the internal details and showing only essential features or behavior. It allows the user to interact with an object at a higher level, focusing on what it does rather than how it does it.\n",
    "   - Example: When using a car, the driver interacts with the steering wheel, pedals, and gear shift without needing to know the internal workings of the engine or transmission.\n",
    "\n",
    "3. **Inheritance**:\n",
    "   - Inheritance is the mechanism by which one class can inherit the properties and methods of another class. It promotes code reusability and establishes a relationship between parent (super) and child (sub) classes.\n",
    "   - Example: A class `Dog` can inherit from a class `Animal`, gaining access to its attributes like `name` and methods like `eat()`, while also adding its own specialized behavior.\n",
    "\n",
    "4. **Polymorphism**:\n",
    "   - Polymorphism allows objects of different classes to be treated as objects of a common super class. It provides the ability to define multiple methods with the same name but different implementations, or have objects of different types respond to the same method call in different ways.\n",
    "   - Example: A function `speak()` could be implemented in different classes like `Dog` and `Cat`, where `Dog.speak()` might output \"Bark\" and `Cat.speak()` outputs \"Meow\". \n",
    "\n",
    "These four pillars form the foundation of designing and implementing effective object-oriented systems."
   ]
  },
  {
   "cell_type": "markdown",
   "metadata": {},
   "source": [
    "Q3. Explain why the __init__() function is used. Give a suitable example."
   ]
  },
  {
   "cell_type": "markdown",
   "metadata": {},
   "source": [
    "The `__init__()` function in Python is a special method (also called a constructor) that is used to initialize the attributes of an object when it is created. It is automatically called when a new object is instantiated from a class, allowing you to set initial values for the object's attributes.\n",
    "\n",
    "### Key points about `__init__()`:\n",
    "- It allows us to define and initialize attributes for an object as soon as it is created.\n",
    "- It does not return anything (the return value is implicitly `None`).\n",
    "- The first parameter is always `self`, which refers to the instance of the class being created.\n",
    "\n",
    "### Example:\n",
    "Let's illustrate the use of `__init__()` with an example:\n",
    "\n",
    " "
   ]
  },
  {
   "cell_type": "code",
   "execution_count": 2,
   "metadata": {},
   "outputs": [
    {
     "name": "stdout",
     "output_type": "stream",
     "text": [
      "Name: Alice, Age: 30\n",
      "Name: Bob, Age: 25\n"
     ]
    }
   ],
   "source": [
    "class Person:\n",
    "    # __init__ method to initialize object attributes\n",
    "    def __init__(self, name, age):\n",
    "        self.name = name  # Instance variable for name\n",
    "        self.age = age    # Instance variable for age\n",
    "    \n",
    "    # Method to display person details\n",
    "    def display_details(self):\n",
    "        print(f\"Name: {self.name}, Age: {self.age}\")\n",
    "\n",
    "# Creating objects of the Person class\n",
    "person1 = Person(\"Alice\", 30)\n",
    "person2 = Person(\"Bob\", 25)\n",
    "\n",
    "# Accessing the method to display details\n",
    "person1.display_details()  # Output: Name: Alice, Age: 30\n",
    "person2.display_details()  # Output: Name: Bob, Age: 25\n"
   ]
  },
  {
   "cell_type": "markdown",
   "metadata": {},
   "source": [
    " \n",
    "- **`__init__()` method**: This method initializes the `name` and `age` attributes when the `Person` object is created.\n",
    "- When **`person1`** and **`person2`** are created, the `__init__()` method is automatically called, and the passed values (`\"Alice\", 30` for `person1` and `\"Bob\", 25` for `person2`) are assigned to the respective attributes.\n",
    "\n",
    "Without the `__init__()` function, you would have to manually set the attributes after creating the object, but `__init__()` simplifies this by initializing them at the time of object creation."
   ]
  },
  {
   "cell_type": "markdown",
   "metadata": {},
   "source": [
    "Q4. Why self is used in OOPs?"
   ]
  },
  {
   "cell_type": "markdown",
   "metadata": {},
   "source": [
    "In Object-Oriented Programming (OOP), the keyword `self` is used to represent the **instance of the class**. It is a reference to the current object, allowing you to access the instance's attributes and methods within the class definition. When defining methods in a class, `self` is the first parameter, and it must be explicitly included in the method signature.\n",
    "\n",
    "### Key reasons for using `self`:\n",
    "\n",
    "1. **Access to instance variables and methods**:\n",
    "   - `self` allows access to the attributes (variables) and methods of the current instance of the class. Without `self`, Python would not know which object's attributes or methods to refer to, especially when there are multiple objects of the same class.\n",
    "   \n",
    "2. **Distinguishing between instance and local variables**:\n",
    "   - The use of `self` helps to distinguish between instance variables (which belong to the object) and local variables (which are specific to the method). Instance variables are tied to a particular object, and `self` ensures they are accessed or modified correctly.\n",
    "   \n",
    "3. **Passes the current object to methods**:\n",
    "   - When a method is called on an object, Python automatically passes the object itself (`self`) as the first argument to the method. This way, the method knows which specific object's data it is working with.\n",
    "\n",
    "### Example:\n",
    "\n",
    " "
   ]
  },
  {
   "cell_type": "code",
   "execution_count": 3,
   "metadata": {},
   "outputs": [
    {
     "name": "stdout",
     "output_type": "stream",
     "text": [
      "Name: John, Grade: A\n"
     ]
    }
   ],
   "source": [
    "class Student:\n",
    "    def __init__(self, name, grade):\n",
    "        self.name = name  # self.name refers to the instance variable 'name'\n",
    "        self.grade = grade  # self.grade refers to the instance variable 'grade'\n",
    "    \n",
    "    def display_info(self):\n",
    "        # Using self to access the instance variables\n",
    "        print(f\"Name: {self.name}, Grade: {self.grade}\")\n",
    "\n",
    "# Creating an object of the Student class\n",
    "student1 = Student(\"John\", \"A\")\n",
    "\n",
    "# Calling the method using the object\n",
    "student1.display_info()  # Output: Name: John, Grade: A\n"
   ]
  },
  {
   "cell_type": "markdown",
   "metadata": {},
   "source": [
    "  \n",
    "\n",
    "### Explanation:\n",
    "- **`self.name`** and **`self.grade`**: These refer to the instance variables `name` and `grade` for the object being created (`student1`).\n",
    "- In the **`display_info()`** method, `self` allows the method to access the `name` and `grade` attributes specific to the object `student1`.\n",
    "\n",
    "Without `self`, there would be no way to reference or modify the data specific to each instance of the class."
   ]
  },
  {
   "cell_type": "markdown",
   "metadata": {},
   "source": [
    "Q5. What is inheritance? Give an example for each type of inheritance."
   ]
  },
  {
   "cell_type": "markdown",
   "metadata": {},
   "source": [
    "**Inheritance** in Object-Oriented Programming (OOP) is a mechanism where one class (child or derived class) inherits the properties and behaviors (attributes and methods) of another class (parent or base class). This promotes code reuse and allows for hierarchical class relationships.\n",
    "\n",
    "### Types of Inheritance:\n",
    "There are several types of inheritance in Python:\n",
    "\n",
    "1. **Single Inheritance**\n",
    "2. **Multiple Inheritance**\n",
    "3. **Multilevel Inheritance**\n",
    "4. **Hierarchical Inheritance**\n",
    "5. **Hybrid Inheritance**\n",
    "\n",
    "Let's explain each type with examples:\n",
    "\n",
    "---\n",
    "\n",
    "### 1. **Single Inheritance**:\n",
    "In single inheritance, a child class inherits from a single parent class.\n",
    "\n"
   ]
  },
  {
   "cell_type": "code",
   "execution_count": 4,
   "metadata": {},
   "outputs": [
    {
     "name": "stdout",
     "output_type": "stream",
     "text": [
      "Animal speaks\n",
      "Dog barks\n"
     ]
    }
   ],
   "source": [
    "# Parent class\n",
    "class Animal:\n",
    "    def speak(self):\n",
    "        return \"Animal speaks\"\n",
    "\n",
    "# Child class\n",
    "class Dog(Animal):\n",
    "    def bark(self):\n",
    "        return \"Dog barks\"\n",
    "\n",
    "# Creating an object of Dog class\n",
    "dog = Dog()\n",
    "print(dog.speak())  # Inherited from Animal class\n",
    "print(dog.bark())   # Method from Dog class\n"
   ]
  },
  {
   "cell_type": "markdown",
   "metadata": {},
   "source": [
    "2. Multiple Inheritance:\n",
    "In multiple inheritance, a child class can inherit from more than one parent class."
   ]
  },
  {
   "cell_type": "code",
   "execution_count": 5,
   "metadata": {},
   "outputs": [
    {
     "name": "stdout",
     "output_type": "stream",
     "text": [
      "Father's strength\n",
      "Mother's intelligence\n",
      "Child has both abilities\n"
     ]
    }
   ],
   "source": [
    "# Parent class 1\n",
    "class Father:\n",
    "    def father_ability(self):\n",
    "        return \"Father's strength\"\n",
    "\n",
    "# Parent class 2\n",
    "class Mother:\n",
    "    def mother_ability(self):\n",
    "        return \"Mother's intelligence\"\n",
    "\n",
    "# Child class inheriting from both Father and Mother\n",
    "class Child(Father, Mother):\n",
    "    def child_ability(self):\n",
    "        return \"Child has both abilities\"\n",
    "\n",
    "# Creating an object of Child class\n",
    "child = Child()\n",
    "print(child.father_ability())  # Inherited from Father\n",
    "print(child.mother_ability())  # Inherited from Mother\n",
    "print(child.child_ability())   # Method from Child class\n"
   ]
  },
  {
   "cell_type": "markdown",
   "metadata": {},
   "source": [
    "3. Multilevel Inheritance:\n",
    "In multilevel inheritance, a class inherits from a child class, which in turn inherits from another parent class."
   ]
  },
  {
   "cell_type": "code",
   "execution_count": 6,
   "metadata": {},
   "outputs": [
    {
     "name": "stdout",
     "output_type": "stream",
     "text": [
      "Animal eats\n",
      "Mammal walks\n",
      "Dog barks\n"
     ]
    }
   ],
   "source": [
    "# Grandparent class\n",
    "class Animal:\n",
    "    def eat(self):\n",
    "        return \"Animal eats\"\n",
    "\n",
    "# Parent class inheriting from Animal\n",
    "class Mammal(Animal):\n",
    "    def walk(self):\n",
    "        return \"Mammal walks\"\n",
    "\n",
    "# Child class inheriting from Mammal\n",
    "class Dog(Mammal):\n",
    "    def bark(self):\n",
    "        return \"Dog barks\"\n",
    "\n",
    "# Creating an object of Dog class\n",
    "dog = Dog()\n",
    "print(dog.eat())    # Inherited from Animal\n",
    "print(dog.walk())   # Inherited from Mammal\n",
    "print(dog.bark())   # Method from Dog class\n"
   ]
  },
  {
   "cell_type": "markdown",
   "metadata": {},
   "source": [
    "4. Hierarchical Inheritance:\n",
    "In hierarchical inheritance, multiple child classes inherit from the same parent class."
   ]
  },
  {
   "cell_type": "code",
   "execution_count": 7,
   "metadata": {},
   "outputs": [
    {
     "name": "stdout",
     "output_type": "stream",
     "text": [
      "Vehicle needs fuel\n",
      "Car drives\n",
      "Vehicle needs fuel\n",
      "Bike rides\n"
     ]
    }
   ],
   "source": [
    "# Parent class\n",
    "class Vehicle:\n",
    "    def fuel(self):\n",
    "        return \"Vehicle needs fuel\"\n",
    "\n",
    "# Child class 1\n",
    "class Car(Vehicle):\n",
    "    def drive(self):\n",
    "        return \"Car drives\"\n",
    "\n",
    "# Child class 2\n",
    "class Bike(Vehicle):\n",
    "    def ride(self):\n",
    "        return \"Bike rides\"\n",
    "\n",
    "# Creating objects of Car and Bike classes\n",
    "car = Car()\n",
    "bike = Bike()\n",
    "print(car.fuel())  # Inherited from Vehicle class\n",
    "print(car.drive()) # Method from Car class\n",
    "print(bike.fuel()) # Inherited from Vehicle class\n",
    "print(bike.ride()) # Method from Bike class\n"
   ]
  },
  {
   "cell_type": "markdown",
   "metadata": {},
   "source": [
    "5. Hybrid Inheritance:\n",
    "Hybrid inheritance is a combination of two or more types of inheritance, usually including multiple inheritance."
   ]
  },
  {
   "cell_type": "code",
   "execution_count": 8,
   "metadata": {},
   "outputs": [
    {
     "name": "stdout",
     "output_type": "stream",
     "text": [
      "Bird flies\n",
      "Sparrow sings\n",
      "Fish swims\n",
      "Flying fish glides\n"
     ]
    }
   ],
   "source": [
    "# Parent class\n",
    "class Bird:\n",
    "    def fly(self):\n",
    "        return \"Bird flies\"\n",
    "\n",
    "# Intermediate class (single inheritance from Bird)\n",
    "class Sparrow(Bird):\n",
    "    def sing(self):\n",
    "        return \"Sparrow sings\"\n",
    "\n",
    "# Another parent class\n",
    "class Fish:\n",
    "    def swim(self):\n",
    "        return \"Fish swims\"\n",
    "\n",
    "# Child class inheriting from both Sparrow and Fish (multiple inheritance)\n",
    "class FlyingFish(Sparrow, Fish):\n",
    "    def glide(self):\n",
    "        return \"Flying fish glides\"\n",
    "\n",
    "# Creating an object of FlyingFish class\n",
    "flying_fish = FlyingFish()\n",
    "print(flying_fish.fly())    # Inherited from Bird\n",
    "print(flying_fish.sing())   # Inherited from Sparrow\n",
    "print(flying_fish.swim())   # Inherited from Fish\n",
    "print(flying_fish.glide())  # Method from FlyingFish class\n"
   ]
  }
 ],
 "metadata": {
  "kernelspec": {
   "display_name": "Python 3",
   "language": "python",
   "name": "python3"
  },
  "language_info": {
   "codemirror_mode": {
    "name": "ipython",
    "version": 3
   },
   "file_extension": ".py",
   "mimetype": "text/x-python",
   "name": "python",
   "nbconvert_exporter": "python",
   "pygments_lexer": "ipython3",
   "version": "3.12.5"
  }
 },
 "nbformat": 4,
 "nbformat_minor": 2
}
